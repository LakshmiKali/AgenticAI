{
 "cells": [
  {
   "cell_type": "code",
   "execution_count": 3,
   "id": "e515f273-bc20-484d-b630-f6489bb6af61",
   "metadata": {},
   "outputs": [
    {
     "name": "stdout",
     "output_type": "stream",
     "text": [
      "Collecting loguru\n",
      "  Using cached loguru-0.7.3-py3-none-any.whl.metadata (22 kB)\n",
      "Using cached loguru-0.7.3-py3-none-any.whl (61 kB)\n",
      "Installing collected packages: loguru\n",
      "Successfully installed loguru-0.7.3\n"
     ]
    }
   ],
   "source": [
    "!pip install loguru"
   ]
  },
  {
   "cell_type": "code",
   "execution_count": 4,
   "id": "a9f70728-ecba-46d8-99bc-dc6a141f3dc7",
   "metadata": {},
   "outputs": [],
   "source": [
    "import openai\n",
    "from abc import ABC,abstractmethod\n",
    "from loguru import logger\n",
    "import os\n",
    "from dotenv import load_dotenv\n",
    "\n",
    "load_dotenv()\n",
    "open.api_key = os.getenv('OPENAI_API_KEY')"
   ]
  },
  {
   "cell_type": "code",
   "execution_count": null,
   "id": "ddf01c6c-e51e-418e-9186-e3e816c7f2b8",
   "metadata": {},
   "outputs": [],
   "source": [
    "class AgentBase(ABC):\n",
    "    def __init__(self,name,max_retries=2,verbose=True):\n",
    "        self.name = name\n",
    "        self.max_retries = max_retries\n",
    "        self.verbose = verbose\n",
    "\n",
    "    @abstractmethod\n",
    "    def execute(self,*args,**kwargs):\n",
    "        pass"
   ]
  }
 ],
 "metadata": {
  "kernelspec": {
   "display_name": "Python 3 (ipykernel)",
   "language": "python",
   "name": "python3"
  },
  "language_info": {
   "codemirror_mode": {
    "name": "ipython",
    "version": 3
   },
   "file_extension": ".py",
   "mimetype": "text/x-python",
   "name": "python",
   "nbconvert_exporter": "python",
   "pygments_lexer": "ipython3",
   "version": "3.12.9"
  }
 },
 "nbformat": 4,
 "nbformat_minor": 5
}
